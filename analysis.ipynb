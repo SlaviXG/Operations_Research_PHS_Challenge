{
 "cells": [
  {
   "cell_type": "code",
   "execution_count": null,
   "id": "95bf7ae8-7885-4c49-bac4-0f10d143db54",
   "metadata": {},
   "outputs": [],
   "source": [
    "import pandas as pd\n",
    "\n",
    "# Load the dataset provided by the user\n",
    "file_path = 'OR_AE2_Project_Adjusted.xlsx'\n",
    "data = pd.read_excel(file_path, sheet_name='Data')  # Loading all sheets if there are multiple"
   ]
  },
  {
   "cell_type": "code",
   "execution_count": null,
   "id": "f5fe1469-0381-441a-b83d-20d657ad2af6",
   "metadata": {},
   "outputs": [],
   "source": [
    "numeric_data = data.select_dtypes(include=['number'])\n",
    "\n",
    "correlation_matrix = numeric_data.corr(method='spearman')"
   ]
  },
  {
   "cell_type": "code",
   "execution_count": null,
   "id": "948002e0-6988-4043-8db3-1acd04ac722c",
   "metadata": {},
   "outputs": [],
   "source": [
    "import matplotlib.pyplot as plt\n",
    "import seaborn as sns\n",
    "\n",
    "# Plotting the correlation matrix as a heatmap with values in cells\n",
    "plt.figure(figsize=(10, 8))\n",
    "sns.heatmap(correlation_matrix, annot=True, cmap='coolwarm', fmt=\".2f\", cbar_kws={'label': 'Correlation Coefficient'})\n",
    "plt.title('Correlation Matrix Heatmap')\n",
    "plt.xticks(rotation=90)\n",
    "plt.yticks(rotation=0)\n",
    "plt.show()\n"
   ]
  },
  {
   "cell_type": "code",
   "execution_count": null,
   "id": "4816bb47-2ebf-456c-8621-463a868c85a3",
   "metadata": {},
   "outputs": [],
   "source": []
  }
 ],
 "metadata": {
  "kernelspec": {
   "display_name": "Python 3 (ipykernel)",
   "language": "python",
   "name": "python3"
  },
  "language_info": {
   "codemirror_mode": {
    "name": "ipython",
    "version": 3
   },
   "file_extension": ".py",
   "mimetype": "text/x-python",
   "name": "python",
   "nbconvert_exporter": "python",
   "pygments_lexer": "ipython3",
   "version": "3.11.3"
  }
 },
 "nbformat": 4,
 "nbformat_minor": 5
}
